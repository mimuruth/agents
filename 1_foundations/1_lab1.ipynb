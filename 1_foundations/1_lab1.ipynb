{
 "cells": [
  {
   "cell_type": "markdown",
   "metadata": {},
   "source": [
    "# Welcome to the start of your adventure in Agentic AI"
   ]
  },
  {
   "cell_type": "markdown",
   "metadata": {},
   "source": [
    "<table style=\"margin: 0; text-align: left; width:100%\">\n",
    "    <tr>\n",
    "        <td style=\"width: 150px; height: 150px; vertical-align: middle;\">\n",
    "            <img src=\"../assets/stop.png\" width=\"150\" height=\"150\" style=\"display: block;\" />\n",
    "        </td>\n",
    "        <td>\n",
    "            <h2 style=\"color:#ff7800;\">Are you ready for action??</h2>\n",
    "            <span style=\"color:#ff7800;\">Have you completed all the setup steps in the <a href=\"../setup/\">setup</a> folder?<br/>\n",
    "            Have you read the <a href=\"../README.md\">README</a>? Many common questions are answered here!<br/>\n",
    "            Have you checked out the guides in the <a href=\"../guides/01_intro.ipynb\">guides</a> folder?<br/>\n",
    "            Well in that case, you're ready!!\n",
    "            </span>\n",
    "        </td>\n",
    "    </tr>\n",
    "</table>"
   ]
  },
  {
   "cell_type": "markdown",
   "metadata": {},
   "source": [
    "<table style=\"margin: 0; text-align: left; width:100%\">\n",
    "    <tr>\n",
    "        <td style=\"width: 150px; height: 150px; vertical-align: middle;\">\n",
    "            <img src=\"../assets/tools.png\" width=\"150\" height=\"150\" style=\"display: block;\" />\n",
    "        </td>\n",
    "        <td>\n",
    "            <h2 style=\"color:#00bfff;\">This code is a live resource - keep an eye out for my updates</h2>\n",
    "            <span style=\"color:#00bfff;\">I push updates regularly. As people ask questions or have problems, I add more examples and improve explanations. As a result, the code below might not be identical to the videos, as I've added more steps and better comments. Consider this like an interactive book that accompanies the lectures.<br/><br/>\n",
    "            I try to send emails regularly with important updates related to the course. You can find this in the 'Announcements' section of Udemy in the left sidebar. You can also choose to receive my emails via your Notification Settings in Udemy. I'm respectful of your inbox and always try to add value with my emails!\n",
    "            </span>\n",
    "        </td>\n",
    "    </tr>\n",
    "</table>"
   ]
  },
  {
   "cell_type": "markdown",
   "metadata": {},
   "source": [
    "### And please do remember to contact me if I can help\n",
    "\n",
    "And I love to connect: https://www.linkedin.com/in/eddonner/\n",
    "\n",
    "\n",
    "### New to Notebooks like this one? Head over to the guides folder!\n",
    "\n",
    "Just to check you've already added the Python and Jupyter extensions to Cursor, if not already installed:\n",
    "- Open extensions (View >> extensions)\n",
    "- Search for python, and when the results show, click on the ms-python one, and Install it if not already installed\n",
    "- Search for jupyter, and when the results show, click on the Microsoft one, and Install it if not already installed  \n",
    "Then View >> Explorer to bring back the File Explorer.\n",
    "\n",
    "And then:\n",
    "1. Click where it says \"Select Kernel\" near the top right, and select the option called `.venv (Python 3.12.9)` or similar, which should be the first choice or the most prominent choice. You may need to choose \"Python Environments\" first.\n",
    "2. Click in each \"cell\" below, starting with the cell immediately below this text, and press Shift+Enter to run\n",
    "3. Enjoy!\n",
    "\n",
    "After you click \"Select Kernel\", if there is no option like `.venv (Python 3.12.9)` then please do the following:  \n",
    "1. On Mac: From the Cursor menu, choose Settings >> VS Code Settings (NOTE: be sure to select `VSCode Settings` not `Cursor Settings`);  \n",
    "On Windows PC: From the File menu, choose Preferences >> VS Code Settings(NOTE: be sure to select `VSCode Settings` not `Cursor Settings`)  \n",
    "2. In the Settings search bar, type \"venv\"  \n",
    "3. In the field \"Path to folder with a list of Virtual Environments\" put the path to the project root, like C:\\Users\\username\\projects\\agents (on a Windows PC) or /Users/username/projects/agents (on Mac or Linux).  \n",
    "And then try again.\n",
    "\n",
    "Having problems with missing Python versions in that list? Have you ever used Anaconda before? It might be interferring. Quit Cursor, bring up a new command line, and make sure that your Anaconda environment is deactivated:    \n",
    "`conda deactivate`  \n",
    "And if you still have any problems with conda and python versions, it's possible that you will need to run this too:  \n",
    "`conda config --set auto_activate_base false`  \n",
    "and then from within the Agents directory, you should be able to run `uv python list` and see the Python 3.12 version."
   ]
  },
  {
   "cell_type": "code",
   "execution_count": 52,
   "metadata": {},
   "outputs": [],
   "source": [
    "# First let's do an import. If you get an Import Error, double check that your Kernel is correct..\n",
    "\n",
    "from dotenv import load_dotenv\n"
   ]
  },
  {
   "cell_type": "code",
   "execution_count": 53,
   "metadata": {},
   "outputs": [
    {
     "data": {
      "text/plain": [
       "True"
      ]
     },
     "execution_count": 53,
     "metadata": {},
     "output_type": "execute_result"
    }
   ],
   "source": [
    "# Next it's time to load the API keys into environment variables\n",
    "# If this returns false, see the next cell!\n",
    "\n",
    "load_dotenv(override=True)"
   ]
  },
  {
   "cell_type": "markdown",
   "metadata": {},
   "source": [
    "### Wait, did that just output `False`??\n",
    "\n",
    "If so, the most common reason is that you didn't save your `.env` file after adding the key! Be sure to have saved.\n",
    "\n",
    "Also, make sure the `.env` file is named precisely `.env` and is in the project root directory (`agents`)\n",
    "\n",
    "By the way, your `.env` file should have a stop symbol next to it in Cursor on the left, and that's actually a good thing: that's Cursor saying to you, \"hey, I realize this is a file filled with secret information, and I'm not going to send it to an external AI to suggest changes, because your keys should not be shown to anyone else.\""
   ]
  },
  {
   "cell_type": "markdown",
   "metadata": {},
   "source": [
    "<table style=\"margin: 0; text-align: left; width:100%\">\n",
    "    <tr>\n",
    "        <td style=\"width: 150px; height: 150px; vertical-align: middle;\">\n",
    "            <img src=\"../assets/stop.png\" width=\"150\" height=\"150\" style=\"display: block;\" />\n",
    "        </td>\n",
    "        <td>\n",
    "            <h2 style=\"color:#ff7800;\">Final reminders</h2>\n",
    "            <span style=\"color:#ff7800;\">1. If you're not confident about Environment Variables or Web Endpoints / APIs, please read Topics 3 and 5 in this <a href=\"../guides/04_technical_foundations.ipynb\">technical foundations guide</a>.<br/>\n",
    "            2. If you want to use AIs other than OpenAI, like Gemini, DeepSeek or Ollama (free), please see the first section in this <a href=\"../guides/09_ai_apis_and_ollama.ipynb\">AI APIs guide</a>.<br/>\n",
    "            3. If you ever get a Name Error in Python, you can always fix it immediately; see the last section of this <a href=\"../guides/06_python_foundations.ipynb\">Python Foundations guide</a> and follow both tutorials and exercises.<br/>\n",
    "            </span>\n",
    "        </td>\n",
    "    </tr>\n",
    "</table>"
   ]
  },
  {
   "cell_type": "code",
   "execution_count": 54,
   "metadata": {},
   "outputs": [
    {
     "name": "stdout",
     "output_type": "stream",
     "text": [
      "OpenAI API Key exists and begins sk-proj-\n"
     ]
    }
   ],
   "source": [
    "# Check the key - if you're not using OpenAI, check whichever key you're using! Ollama doesn't need a key.\n",
    "\n",
    "import os\n",
    "openai_api_key = os.getenv('OPENAI_API_KEY')\n",
    "\n",
    "if openai_api_key:\n",
    "    print(f\"OpenAI API Key exists and begins {openai_api_key[:8]}\")\n",
    "else:\n",
    "    print(\"OpenAI API Key not set - please head to the troubleshooting guide in the setup folder\")\n",
    "    \n"
   ]
  },
  {
   "cell_type": "code",
   "execution_count": 55,
   "metadata": {},
   "outputs": [],
   "source": [
    "# And now - the all important import statement\n",
    "# If you get an import error - head over to troubleshooting in the Setup folder\n",
    "\n",
    "from openai import OpenAI"
   ]
  },
  {
   "cell_type": "code",
   "execution_count": 56,
   "metadata": {},
   "outputs": [],
   "source": [
    "# And now we'll create an instance of the OpenAI class\n",
    "# If you're not sure what it means to create an instance of a class - head over to the guides folder (guide 6)!\n",
    "# If you get a NameError - head over to the guides folder (guide 6)to learn about NameErrors - always instantly fixable\n",
    "# If you're not using OpenAI, you just need to slightly modify this - precise instructions are in the AI APIs guide (guide 9)\n",
    "\n",
    "openai = OpenAI()"
   ]
  },
  {
   "cell_type": "code",
   "execution_count": 57,
   "metadata": {},
   "outputs": [],
   "source": [
    "# Create a list of messages in the familiar OpenAI format\n",
    "\n",
    "messages = [{\"role\": \"user\", \"content\": \"What is 2+2?\"}]"
   ]
  },
  {
   "cell_type": "code",
   "execution_count": 58,
   "metadata": {},
   "outputs": [
    {
     "name": "stdout",
     "output_type": "stream",
     "text": [
      "2 + 2 equals 4.\n"
     ]
    }
   ],
   "source": [
    "# And now call it! Any problems, head to the troubleshooting guide\n",
    "# This uses GPT 4.1 nano, the incredibly cheap model\n",
    "# The APIs guide (guide 9) has exact instructions for using even cheaper or free alternatives to OpenAI\n",
    "# If you get a NameError, head to the guides folder (guide 6) to learn about NameErrors - always instantly fixable\n",
    "\n",
    "response = openai.chat.completions.create(\n",
    "    model=\"gpt-4.1-nano\",\n",
    "    messages=messages\n",
    ")\n",
    "\n",
    "print(response.choices[0].message.content)\n"
   ]
  },
  {
   "cell_type": "code",
   "execution_count": 59,
   "metadata": {},
   "outputs": [],
   "source": [
    "# And now - let's ask for a question:\n",
    "\n",
    "question = \"Please propose a hard, challenging question to assess someone's IQ. Respond only with the question.\"\n",
    "messages = [{\"role\": \"user\", \"content\": question}]\n"
   ]
  },
  {
   "cell_type": "code",
   "execution_count": 60,
   "metadata": {},
   "outputs": [
    {
     "name": "stdout",
     "output_type": "stream",
     "text": [
      "If six children can paint six fences in six hours, how many hours will it take twelve children to paint eighteen fences, assuming they all work at the same rate?\n"
     ]
    }
   ],
   "source": [
    "# ask it - this uses GPT 4.1 mini, still cheap but more powerful than nano\n",
    "\n",
    "response = openai.chat.completions.create(\n",
    "    model=\"gpt-4.1-mini\",\n",
    "    messages=messages\n",
    ")\n",
    "\n",
    "question = response.choices[0].message.content\n",
    "\n",
    "print(question)\n"
   ]
  },
  {
   "cell_type": "code",
   "execution_count": 61,
   "metadata": {},
   "outputs": [],
   "source": [
    "# form a new messages list\n",
    "messages = [{\"role\": \"user\", \"content\": question}]\n"
   ]
  },
  {
   "cell_type": "code",
   "execution_count": 62,
   "metadata": {},
   "outputs": [
    {
     "name": "stdout",
     "output_type": "stream",
     "text": [
      "Let's analyze the problem step-by-step.\n",
      "\n",
      "**Given:**\n",
      "- 6 children can paint 6 fences in 6 hours.\n",
      "\n",
      "**Goal:**\n",
      "- Find how many hours 12 children will take to paint 18 fences.\n",
      "\n",
      "---\n",
      "\n",
      "### Step 1: Find the rate per child.\n",
      "\n",
      "First, let's determine the painting rate per child.\n",
      "\n",
      "- 6 children paint 6 fences in 6 hours.\n",
      "\n",
      "This means total work done is 6 fences.\n",
      "\n",
      "Total person-hours worked:\n",
      "\n",
      "\\[\n",
      "6 \\text{ children} \\times 6 \\text{ hours} = 36 \\text{ person-hours}\n",
      "\\]\n",
      "\n",
      "So, 36 person-hours corresponds to painting 6 fences.\n",
      "\n",
      "---\n",
      "\n",
      "### Step 2: Find the work done per person-hour.\n",
      "\n",
      "\\[\n",
      "\\text{Work per person-hour} = \\frac{6 \\text{ fences}}{36 \\text{ person-hours}} = \\frac{1}{6} \\text{ fence per person-hour}\n",
      "\\]\n",
      "\n",
      "Each child paints \\(\\frac{1}{6}\\) of a fence per hour.\n",
      "\n",
      "---\n",
      "\n",
      "### Step 3: Calculate the total person-hours needed for 18 fences.\n",
      "\n",
      "We need to paint 18 fences.\n",
      "\n",
      "Total person-hours required:\n",
      "\n",
      "\\[\n",
      "18 \\text{ fences} \\times 6 \\text{ person-hours per fence} = 108 \\text{ person-hours}\n",
      "\\]\n",
      "\n",
      "---\n",
      "\n",
      "### Step 4: Determine how many hours 12 children will take.\n",
      "\n",
      "If 12 children are working:\n",
      "\n",
      "\\[\n",
      "\\text{Hours} = \\frac{108 \\text{ person-hours}}{12 \\text{ children}} = 9 \\text{ hours}\n",
      "\\]\n",
      "\n",
      "---\n",
      "\n",
      "### **Answer:**\n",
      "\n",
      "\\[\n",
      "\\boxed{9 \\text{ hours}}\n",
      "\\]\n",
      "\n",
      "It will take 12 children 9 hours to paint 18 fences.\n"
     ]
    }
   ],
   "source": [
    "# Ask it again\n",
    "\n",
    "response = openai.chat.completions.create(\n",
    "    model=\"gpt-4.1-mini\",\n",
    "    messages=messages\n",
    ")\n",
    "\n",
    "answer = response.choices[0].message.content\n",
    "print(answer)\n"
   ]
  },
  {
   "cell_type": "code",
   "execution_count": 63,
   "metadata": {},
   "outputs": [
    {
     "data": {
      "text/markdown": [
       "Let's analyze the problem step-by-step.\n",
       "\n",
       "**Given:**\n",
       "- 6 children can paint 6 fences in 6 hours.\n",
       "\n",
       "**Goal:**\n",
       "- Find how many hours 12 children will take to paint 18 fences.\n",
       "\n",
       "---\n",
       "\n",
       "### Step 1: Find the rate per child.\n",
       "\n",
       "First, let's determine the painting rate per child.\n",
       "\n",
       "- 6 children paint 6 fences in 6 hours.\n",
       "\n",
       "This means total work done is 6 fences.\n",
       "\n",
       "Total person-hours worked:\n",
       "\n",
       "\\[\n",
       "6 \\text{ children} \\times 6 \\text{ hours} = 36 \\text{ person-hours}\n",
       "\\]\n",
       "\n",
       "So, 36 person-hours corresponds to painting 6 fences.\n",
       "\n",
       "---\n",
       "\n",
       "### Step 2: Find the work done per person-hour.\n",
       "\n",
       "\\[\n",
       "\\text{Work per person-hour} = \\frac{6 \\text{ fences}}{36 \\text{ person-hours}} = \\frac{1}{6} \\text{ fence per person-hour}\n",
       "\\]\n",
       "\n",
       "Each child paints \\(\\frac{1}{6}\\) of a fence per hour.\n",
       "\n",
       "---\n",
       "\n",
       "### Step 3: Calculate the total person-hours needed for 18 fences.\n",
       "\n",
       "We need to paint 18 fences.\n",
       "\n",
       "Total person-hours required:\n",
       "\n",
       "\\[\n",
       "18 \\text{ fences} \\times 6 \\text{ person-hours per fence} = 108 \\text{ person-hours}\n",
       "\\]\n",
       "\n",
       "---\n",
       "\n",
       "### Step 4: Determine how many hours 12 children will take.\n",
       "\n",
       "If 12 children are working:\n",
       "\n",
       "\\[\n",
       "\\text{Hours} = \\frac{108 \\text{ person-hours}}{12 \\text{ children}} = 9 \\text{ hours}\n",
       "\\]\n",
       "\n",
       "---\n",
       "\n",
       "### **Answer:**\n",
       "\n",
       "\\[\n",
       "\\boxed{9 \\text{ hours}}\n",
       "\\]\n",
       "\n",
       "It will take 12 children 9 hours to paint 18 fences."
      ],
      "text/plain": [
       "<IPython.core.display.Markdown object>"
      ]
     },
     "metadata": {},
     "output_type": "display_data"
    }
   ],
   "source": [
    "from IPython.display import Markdown, display\n",
    "\n",
    "display(Markdown(answer))\n",
    "\n"
   ]
  },
  {
   "cell_type": "markdown",
   "metadata": {},
   "source": [
    "# Congratulations!\n",
    "\n",
    "That was a small, simple step in the direction of Agentic AI, with your new environment!\n",
    "\n",
    "Next time things get more interesting..."
   ]
  },
  {
   "cell_type": "markdown",
   "metadata": {},
   "source": [
    "<table style=\"margin: 0; text-align: left; width:100%\">\n",
    "    <tr>\n",
    "        <td style=\"width: 150px; height: 150px; vertical-align: middle;\">\n",
    "            <img src=\"../assets/exercise.png\" width=\"150\" height=\"150\" style=\"display: block;\" />\n",
    "        </td>\n",
    "        <td>\n",
    "            <h2 style=\"color:#ff7800;\">Exercise</h2>\n",
    "            <span style=\"color:#ff7800;\">Now try this commercial application:<br/>\n",
    "            First ask the LLM to pick a business area that might be worth exploring for an Agentic AI opportunity.<br/>\n",
    "            Then ask the LLM to present a pain-point in that industry - something challenging that might be ripe for an Agentic solution.<br/>\n",
    "            Finally have 3 third LLM call propose the Agentic AI solution. <br/>\n",
    "            We will cover this at up-coming labs, so don't worry if you're unsure.. just give it a try!\n",
    "            </span>\n",
    "        </td>\n",
    "    </tr>\n",
    "</table>"
   ]
  },
  {
   "cell_type": "code",
   "execution_count": null,
   "metadata": {},
   "outputs": [
    {
     "data": {
      "text/markdown": [
       "One promising business area for exploring an Agentic AI opportunity is personalized healthcare. This field is ripe for innovation, as there is a growing demand for more individualized and effective healthcare solutions. An Agentic AI system could provide personalized health recommendations, manage chronic conditions, and offer real-time monitoring and feedback to patients. By leveraging vast amounts of health data, such an AI could improve patient outcomes and reduce healthcare costs by tailoring interventions to the specific needs and conditions of each individual. The integration of Agentic AI in personalized healthcare could revolutionize how we approach treatment and wellness, making it a lucrative area for exploration and development."
      ],
      "text/plain": [
       "<IPython.core.display.Markdown object>"
      ]
     },
     "metadata": {},
     "output_type": "display_data"
    },
    {
     "data": {
      "text/markdown": [
       "A high-impact pain point in the personalized healthcare sector that could benefit from an Agentic AI solution is the management and integration of fragmented patient data. Currently, patient data is often scattered across multiple platforms and providers, leading to inefficiencies, redundancies, and gaps in care. This fragmentation can hinder the ability to deliver truly personalized and effective healthcare solutions.\n",
       "\n",
       "An Agentic AI system could address this pain point by seamlessly aggregating and integrating data from various sources, such as electronic health records (EHRs), wearable devices, genetic information, and patient-reported outcomes. By creating a comprehensive and unified view of a patient's health, the AI could offer more accurate and timely insights and recommendations tailored to the individual's unique health profile.\n",
       "\n",
       "Moreover, the AI could facilitate better communication and coordination among healthcare providers, ensuring that all parties have access to the same up-to-date information, which would enhance collaborative care and improve patient outcomes. By addressing the challenge of data fragmentation, an Agentic AI solution could significantly enhance the effectiveness and efficiency of personalized healthcare."
      ],
      "text/plain": [
       "<IPython.core.display.Markdown object>"
      ]
     },
     "metadata": {},
     "output_type": "display_data"
    },
    {
     "data": {
      "text/markdown": [
       "To address the pain point of fragmented patient data in personalized healthcare, we can propose a concrete Agentic AI solution called \"HealthSync AI.\" This system is designed to aggregate, integrate, and analyze patient data from multiple sources to create a comprehensive health profile for each individual. Below is a detailed outline of the solution:\n",
       "\n",
       "### 1) High-Level Architecture\n",
       "- **Data Aggregation Layer**: Collects data from various sources, including EHRs, wearable devices, genetic testing services, and patient-reported outcomes.\n",
       "- **Data Integration Engine**: Normalizes and integrates disparate data formats into a unified data model.\n",
       "- **AI Analytics Core**: Utilizes machine learning algorithms to analyze integrated data and generate insights.\n",
       "- **User Interface (UI) and Communication Module**: Provides interfaces for healthcare providers and patients, facilitating data access and communication.\n",
       "- **Security and Compliance Module**: Ensures data privacy and compliance with regulations like HIPAA.\n",
       "\n",
       "### 2) Key Agents & Roles\n",
       "- **Data Aggregator Agent**: Collects and processes data from various sources.\n",
       "- **Integration Agent**: Maps and integrates data into a unified format.\n",
       "- **Analytics Agent**: Performs data analysis and generates personalized health insights.\n",
       "- **Communication Agent**: Manages information sharing and coordination between providers and patients.\n",
       "- **Security Agent**: Monitors compliance and data security.\n",
       "\n",
       "### 3) Required Data Sources & Integrations\n",
       "- **Electronic Health Records (EHRs)**: Integration with hospital and clinic systems.\n",
       "- **Wearable Devices**: APIs for devices like Fitbit, Apple Watch, etc.\n",
       "- **Genetic Information**: Partnerships with genetic testing companies.\n",
       "- **Patient-Reported Outcomes**: Mobile app integration for patient input.\n",
       "- **Pharmacy and Lab Systems**: Access to medication and test results.\n",
       "\n",
       "### 4) Operational Loop\n",
       "1. **Data Collection**: The Data Aggregator Agent collects data from all integrated sources.\n",
       "2. **Data Integration**: The Integration Agent normalizes and integrates data, updating the unified patient profile.\n",
       "3. **Analysis**: The Analytics Agent processes the integrated data to identify trends, risks, and personalized recommendations.\n",
       "4. **Communication**: Insights and updates are shared with healthcare providers and patients via the Communication Agent.\n",
       "5. **Feedback Loop**: Providers and patients provide feedback, which is used to refine AI algorithms and improve accuracy.\n",
       "\n",
       "### 5) Risks & Mitigations\n",
       "- **Data Privacy**: Implement robust encryption and access controls to protect data.\n",
       "- **Interoperability Challenges**: Develop standardized APIs and work with industry groups to ensure compatibility.\n",
       "- **Algorithm Bias**: Regularly audit AI models for bias and update them to ensure fairness.\n",
       "- **User Adoption**: Provide training and support to encourage adoption by healthcare providers and patients.\n",
       "\n",
       "### 6) Success Metrics\n",
       "- **Data Integration Efficiency**: Percentage of successfully integrated data sources.\n",
       "- **Insight Accuracy**: Accuracy and relevance of AI-generated insights as measured by provider feedback.\n",
       "- **Patient Outcomes**: Improvement in patient health outcomes and satisfaction scores.\n",
       "- **Provider Engagement**: Rate of adoption and usage by healthcare providers.\n",
       "- **Data Security Incidents**: Number of data breaches or security incidents reported.\n",
       "\n",
       "By implementing HealthSync AI, healthcare providers can overcome the challenge of fragmented patient data, leading to improved patient care, enhanced provider collaboration, and more personalized healthcare solutions."
      ],
      "text/plain": [
       "<IPython.core.display.Markdown object>"
      ]
     },
     "metadata": {},
     "output_type": "display_data"
    }
   ],
   "source": [
    "# First create the messages:\n",
    "messages = [{\"role\": \"user\", \"content\": \"Pick one business area worth exploring for an Agentic AI opportunity.\"}]\n",
    "\n",
    "# Then make the first call:\n",
    "response = openai.chat.completions.create(\n",
    "    model=\"gpt-4o\",\n",
    "    messages=messages,\n",
    "    temperature=0.7,\n",
    ")\n",
    "# Then read the business idea:\n",
    "business_idea = response.choices[0].message.content.strip()\n",
    "\n",
    "# And repeat! In the next message, include the business idea within the message\n",
    "messages.append({\"role\": \"assistant\", \"content\": business_idea})\n",
    "messages.append({\n",
    "    \"role\": \"user\",\n",
    "    \"content\": f\"What is a high-impact pain point in the business area \\\"{business_idea}\\\" that might be ripe for an Agentic AI solution?\",\n",
    "})\n",
    "\n",
    "# Make the second call:\n",
    "response = openai.chat.completions.create(\n",
    "    model=\"gpt-4o\",\n",
    "    messages=messages,\n",
    "    temperature=0.7,\n",
    ")\n",
    "\n",
    "# Then read the pain point:\n",
    "pain_point = response.choices[0].message.content.strip()\n",
    "\n",
    "# And repeat! In the next message, include the pain point within the message\n",
    "messages.append({\"role\": \"assistant\", \"content\": pain_point})\n",
    "messages.append({\n",
    "    \"role\": \"user\",\n",
    "    \"content\": f\"Propose a concrete Agentic AI solution to solve the following pain point:\\n\\n{pain_point}\\n\\nInclude:\\n1) High-level architecture\\n2) Key agents & roles\\n3) Required data sources & integrations\\n4) Operational loop\\n5) Risks & mitigations\\n6) Success metrics\",\n",
    "})\n",
    "\n",
    "# Make the third call:\n",
    "response = openai.chat.completions.create(\n",
    "    model=\"gpt-4o\",\n",
    "    messages=messages,\n",
    "    temperature=0.6,\n",
    ")\n",
    "\n",
    "# Then read the final solution:\n",
    "solution = response.choices[0].message.content.strip()\n",
    "\n",
    "# Display all\n",
    "\n",
    "display(Markdown(business_idea))\n",
    "display(Markdown(pain_point))\n",
    "display(Markdown(solution))"
   ]
  }
 ],
 "metadata": {
  "kernelspec": {
   "display_name": ".venv",
   "language": "python",
   "name": "python3"
  },
  "language_info": {
   "codemirror_mode": {
    "name": "ipython",
    "version": 3
   },
   "file_extension": ".py",
   "mimetype": "text/x-python",
   "name": "python",
   "nbconvert_exporter": "python",
   "pygments_lexer": "ipython3",
   "version": "3.12.2"
  }
 },
 "nbformat": 4,
 "nbformat_minor": 2
}
